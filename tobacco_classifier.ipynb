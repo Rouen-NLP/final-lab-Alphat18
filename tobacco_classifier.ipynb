{
 "cells": [
  {
   "cell_type": "markdown",
   "metadata": {},
   "source": [
    "# Classification des documents du procès des groupes américains du tabac"
   ]
  },
  {
   "cell_type": "code",
   "execution_count": 177,
   "metadata": {
    "collapsed": true
   },
   "outputs": [],
   "source": [
    "from time import time\n",
    "import os\n",
    "\n",
    "import numpy as np\n",
    "import matplotlib.pyplot as plt\n",
    "from matplotlib import cm\n",
    "import pandas as pd\n",
    "import seaborn as sns\n",
    "from tabulate import tabulate\n",
    "from pprint import pprint\n",
    "import logging\n",
    "\n",
    "from sklearn.model_selection import train_test_split\n",
    "from sklearn.feature_extraction.text import CountVectorizer\n",
    "from sklearn.feature_extraction.text import TfidfVectorizer, TfidfTransformer\n",
    "from sklearn.naive_bayes import MultinomialNB\n",
    "from sklearn.metrics import classification_report\n",
    "from sklearn.metrics import confusion_matrix\n",
    "from sklearn.model_selection import GridSearchCV\n",
    "from sklearn.pipeline import Pipeline"
   ]
  },
  {
   "cell_type": "code",
   "execution_count": 2,
   "metadata": {
    "collapsed": true
   },
   "outputs": [],
   "source": [
    "def load_texts(path: str) -> (list, list):\n",
    "    texts = []\n",
    "    categories = []\n",
    "\n",
    "    for root, dirs, files in os.walk(path):\n",
    "        for file in files:\n",
    "            if file.endswith(\".txt\"):\n",
    "                with open(root + '/' + file, 'r', encoding=\"utf8\") as text:\n",
    "                    texts.append(text.read())\n",
    "                    categories.append(root.split('/')[2])\n",
    "    return texts, categories"
   ]
  },
  {
   "cell_type": "code",
   "execution_count": 4,
   "metadata": {
    "collapsed": true,
    "scrolled": false
   },
   "outputs": [],
   "source": [
    "def create_data_frame(texts: list, categories: list) -> pd.DataFrame:\n",
    "     return pd.DataFrame({'text': texts, 'category': categories})"
   ]
  },
  {
   "cell_type": "code",
   "execution_count": 163,
   "metadata": {
    "collapsed": true
   },
   "outputs": [],
   "source": [
    "def plot_category_histogram(df: pd.DataFrame):\n",
    "    plt.figure(figsize=(15, 5))\n",
    "    plt.title(\"Number of texts by categories\")\n",
    "    sns.countplot(data=df, x='category')\n",
    "    plt.show()"
   ]
  },
  {
   "cell_type": "code",
   "execution_count": 206,
   "metadata": {},
   "outputs": [],
   "source": [
    "def print_average_number_words(df: pd.DataFrame):\n",
    "    categories = np.unique(df.category)\n",
    "    word_averages = []\n",
    "    for category in categories:\n",
    "        word_averages.append(np.mean(df[df.category == category].text.str.split().str.len()))\n",
    "    plt.figure(figsize=(15, 5))\n",
    "    plt.bar(categories, word_averages, color=cm.Paired.colors)\n",
    "    plt.show()"
   ]
  },
  {
   "cell_type": "code",
   "execution_count": 49,
   "metadata": {
    "collapsed": true
   },
   "outputs": [],
   "source": [
    "def print_texts_examples(df: pd.DataFrame):\n",
    "    categories = np.unique(df.category)\n",
    "    texts = []\n",
    "    for category in categories:\n",
    "        texts.append([category, df[df.category == category][0:1].text.iloc[0]])\n",
    "    print(tabulate(texts, headers=[\"Category\", \"text example\"]))"
   ]
  },
  {
   "cell_type": "code",
   "execution_count": 6,
   "metadata": {
    "collapsed": true
   },
   "outputs": [],
   "source": [
    "def show_most_frequent_words(df: pd.DataFrame, method: str = 'bag_of_word', nb_features: int = 10, n_gram_range: tuple = (1, 1)):\n",
    "    if method == 'bag_of_word':\n",
    "        vectorizer = CountVectorizer(ngram_range=n_gram_range, max_features=nb_features)\n",
    "        X = vectorizer.fit_transform(df.text)\n",
    "        df_cv = pd.DataFrame(np.sum(X, axis=0), columns=vectorizer.get_feature_names())\n",
    "        frequency_cv = df_cv.iloc[:, np.argsort(df_cv.loc[0])]\n",
    "        print(\"Bag Of Word: word count with n-grams:\", n_gram_range, \"\\n\", frequency_cv.loc[0][::-1], \"\\n\")\n",
    "    elif method == 'tfidf':\n",
    "        vectorizer = TfidfVectorizer(max_features=nb_features)\n",
    "        X = vectorizer.fit_transform(df.text)\n",
    "        df_tf = pd.DataFrame(np.sum(X, axis=0), columns=vectorizer.get_feature_names())\n",
    "        frequency_tf = df_tf.iloc[:, np.argsort(df_tf.loc[0])]\n",
    "        print(\"TFIDF: word frequency\\n\", frequency_tf.loc[0][::-1], \"\\n\")\n",
    "    else:\n",
    "        raise Exception('Wrong method')"
   ]
  },
  {
   "cell_type": "markdown",
   "metadata": {},
   "source": [
    "## Print Data Information"
   ]
  },
  {
   "cell_type": "code",
   "execution_count": 221,
   "metadata": {
    "scrolled": true
   },
   "outputs": [
    {
     "name": "stdout",
     "output_type": "stream",
     "text": [
      "       category  text\n",
      "count      3482  3482\n",
      "unique       10  3453\n",
      "top        Memo      \n",
      "freq        620    25 \n",
      "\n"
     ]
    },
    {
     "data": {
      "image/png": "[encoded data removed]",
      "text/plain": [
       "<Figure size 1080x360 with 1 Axes>"
      ]
     },
     "metadata": {},
     "output_type": "display_data"
    },
    {
     "data": {
      "image/png": "[encoded data removed]",
      "text/plain": [
       "<Figure size 1080x360 with 1 Axes>"
      ]
     },
     "metadata": {},
     "output_type": "display_data"
    },
    {
     "name": "stdout",
     "output_type": "stream",
     "text": [
      "Bag Of Word: word count with n-grams: (1, 1) \n",
      " the     30607\n",
      "of      20785\n",
      "to      15492\n",
      "and     14800\n",
      "in      11391\n",
      "for      6884\n",
      "is       5376\n",
      "that     4670\n",
      "on       4525\n",
      "be       4211\n",
      "with     4133\n",
      "from     4010\n",
      "this     3831\n",
      "by       3781\n",
      "as       3209\n",
      "are      2942\n",
      "at       2693\n",
      "or       2681\n",
      "will     2610\n",
      "we       2495\n",
      "Name: 0, dtype: int64 \n",
      "\n"
     ]
    },
    {
     "name": "stderr",
     "output_type": "stream",
     "text": [
      "B:\\Anaconda\\lib\\site-packages\\sklearn\\feature_extraction\\text.py:1089: FutureWarning: Conversion of the second argument of issubdtype from `float` to `np.floating` is deprecated. In future, it will be treated as `np.float64 == np.dtype(float).type`.\n",
      "  if hasattr(X, 'dtype') and np.issubdtype(X.dtype, np.float):\n"
     ]
    },
    {
     "name": "stdout",
     "output_type": "stream",
     "text": [
      "TFIDF: word frequency\n",
      " the     1312.183043\n",
      "of       956.979566\n",
      "to       881.827561\n",
      "and      708.029248\n",
      "in       557.484570\n",
      "for      455.879180\n",
      "from     434.994097\n",
      "is       345.718885\n",
      "on       345.057287\n",
      "be       302.147471\n",
      "this     280.492571\n",
      "with     270.922698\n",
      "that     270.542997\n",
      "by       267.948819\n",
      "we       262.764446\n",
      "as       240.782882\n",
      "will     230.662145\n",
      "or       223.411988\n",
      "are      223.118745\n",
      "at       220.337021\n",
      "Name: 0, dtype: float64 \n",
      "\n",
      "Bag Of Word: word count with n-grams: (2, 2) \n",
      " of the           4187\n",
      "in the           2448\n",
      "to the           1574\n",
      "for the          1299\n",
      "on the           1049\n",
      "will be          1018\n",
      "to be             870\n",
      "new york          821\n",
      "and the           768\n",
      "philip morris     718\n",
      "with the          718\n",
      "that the          668\n",
      "at the            668\n",
      "by the            657\n",
      "from the          643\n",
      "has been          578\n",
      "university of     522\n",
      "it is             469\n",
      "have been         462\n",
      "of this           446\n",
      "Name: 0, dtype: int64 \n",
      "\n"
     ]
    }
   ],
   "source": [
    "texts, categories = load_texts(\"data/Tobacco3482-OCR/\")\n",
    "df = create_data_frame(texts, categories)\n",
    "print(df.describe(), \"\\n\")\n",
    "print_average_number_words(df)\n",
    "plot_category_histogram(df)\n",
    "#print_texts_examples(df)\n",
    "show_most_frequent_words(df, method='bag_of_word', nb_features=20)\n",
    "show_most_frequent_words(df, method='tfidf', nb_features=20)\n",
    "show_most_frequent_words(df, method='bag_of_word', nb_features=20, n_gram_range=(2, 2))"
   ]
  },
  {
   "cell_type": "markdown",
   "metadata": {},
   "source": [
    "## Splitting data into a training and testing set "
   ]
  },
  {
   "cell_type": "code",
   "execution_count": 301,
   "metadata": {},
   "outputs": [
    {
     "name": "stdout",
     "output_type": "stream",
     "text": [
      "Performing grid search...\n",
      "pipeline: ['vect', 'tfidf', 'clf']\n",
      "parameters:\n",
      "{'clf__alpha': [0.1, 0.15, 0.2],\n",
      " 'tfidf__use_idf': [True],\n",
      " 'vect__max_df': [0.1],\n",
      " 'vect__max_features': [1600, 1800, 2000],\n",
      " 'vect__min_df': [0.0],\n",
      " 'vect__ngram_range': [(1, 1), (1, 2), (1, 3)]}\n",
      "Fitting 3 folds for each of 27 candidates, totalling 81 fits\n"
     ]
    },
    {
     "name": "stderr",
     "output_type": "stream",
     "text": [
      "[Parallel(n_jobs=-1)]: Done  33 tasks      | elapsed:   26.8s\n",
      "[Parallel(n_jobs=-1)]: Done  81 out of  81 | elapsed:  1.1min finished\n"
     ]
    },
    {
     "name": "stdout",
     "output_type": "stream",
     "text": [
      "done in 68.208s\n",
      "\n",
      "Best score: 0.718\n",
      "Best parameters set:\n",
      "\tclf__alpha: 0.15\n",
      "\ttfidf__use_idf: True\n",
      "\tvect__max_df: 0.1\n",
      "\tvect__max_features: 2000\n",
      "\tvect__min_df: 0.0\n",
      "\tvect__ngram_range: (1, 3)\n"
     ]
    },
    {
     "name": "stderr",
     "output_type": "stream",
     "text": [
      "B:\\Anaconda\\lib\\site-packages\\sklearn\\feature_extraction\\text.py:1089: FutureWarning: Conversion of the second argument of issubdtype from `float` to `np.floating` is deprecated. In future, it will be treated as `np.float64 == np.dtype(float).type`.\n",
      "  if hasattr(X, 'dtype') and np.issubdtype(X.dtype, np.float):\n"
     ]
    }
   ],
   "source": [
    "def hyperparameter_optimization(X_train, y_train):\n",
    "    # Hyperameters optimization with GridSearchCV = parallel processing\n",
    "    # Display progress logs on stdout\n",
    "    logging.basicConfig(level=logging.INFO,\n",
    "                        format='%(asctime)s %(levelname)s %(message)s')\n",
    "\n",
    "    pipeline = Pipeline([\n",
    "        ('vect', CountVectorizer()),\n",
    "        ('tfidf', TfidfTransformer()),\n",
    "        ('clf', MultinomialNB()),\n",
    "    ])\n",
    "\n",
    "    parameters = {\n",
    "        'vect__ngram_range': [(1, 1), (1, 2), (1, 3)],\n",
    "        'vect__max_df': [0.1, 0.2],\n",
    "        'vect__min_df': [0., 0.1],\n",
    "        'vect__max_features': [1600, 1800, 2000],\n",
    "        'clf__alpha': [0.10, 0.15, 0.20],\n",
    "        'tfidf__use_idf': [True]\n",
    "    }\n",
    "    if __name__ == \"__main__\":\n",
    "        # multiprocessing requires the fork to happen in a __main__ protected\n",
    "        # block\n",
    "\n",
    "        # find the best parameters for both the feature extraction and the\n",
    "        # classifier\n",
    "        grid_search = GridSearchCV(pipeline, parameters, n_jobs=-1, verbose=2, error_score=0)\n",
    "\n",
    "        print(\"Performing grid search...\")\n",
    "        print(\"pipeline:\", [name for name, _ in pipeline.steps])\n",
    "        print(\"parameters:\")\n",
    "        pprint(parameters)\n",
    "        t0 = time()\n",
    "        grid_search.fit(X_train, y_train)\n",
    "        print(\"done in %0.3fs\" % (time() - t0))\n",
    "        print()\n",
    "\n",
    "        print(\"Best score: %0.3f\" % grid_search.best_score_)\n",
    "        print(\"Best parameters set:\")\n",
    "        best_parameters = grid_search.best_estimator_.get_params()\n",
    "        for param_name in sorted(parameters.keys()):\n",
    "            print(\"\\t%s: %r\" % (param_name, best_parameters[param_name]))"
   ]
  },
  {
   "cell_type": "code",
   "execution_count": 222,
   "metadata": {
    "collapsed": true
   },
   "outputs": [],
   "source": [
    "# Split the dataset, create X (features) and y (target)\n",
    "X_train, X_test, y_train, y_test = train_test_split(df.text, df.category, test_size=0.2)\n",
    "\n",
    "#hyperparameter_optimization(X_train, y_train)"
   ]
  },
  {
   "cell_type": "markdown",
   "metadata": {},
   "source": [
    "## Bag of Word representation"
   ]
  },
  {
   "cell_type": "code",
   "execution_count": 112,
   "metadata": {},
   "outputs": [
    {
     "name": "stdout",
     "output_type": "stream",
     "text": [
      "--------------  --------\n",
      "training error  0.824776\n",
      "test error      0.734577\n",
      "--------------  --------\n"
     ]
    }
   ],
   "source": [
    "# Create document vectors\n",
    "vectorizer = CountVectorizer(ngram_range=(1, 3), max_features=2000, min_df=0, max_df=0.1)\n",
    "vectorizer.fit(X_train)\n",
    "X_train_counts = vectorizer.transform(X_train)\n",
    "X_test_counts = vectorizer.transform(X_test)\n",
    "\n",
    "# train a Naive Bayes classifier\n",
    "clf = MultinomialNB(alpha=0.15)\n",
    "clf.fit(X_train_counts, y_train)\n",
    "\n",
    "y_hat_train_bw = clf.predict(X_train_counts)\n",
    "error_train_bw = y_hat_train_bw[y_hat_train_bw == y_train].size / y_train.size\n",
    "\n",
    "y_hat_test_bw = clf.predict(X_test_counts)\n",
    "error_test_bw = y_hat_test_bw[y_hat_test_bw == y_test].size / y_test.size\n",
    "\n",
    "table = [[\"training error\", error_train_bw], [\"test error\", error_test_bw]]\n",
    "print(tabulate(table))"
   ]
  },
  {
   "cell_type": "code",
   "execution_count": 113,
   "metadata": {},
   "outputs": [
    {
     "name": "stdout",
     "output_type": "stream",
     "text": [
      "               precision    recall  f1-score   support\n",
      "\n",
      "Advertisement       0.70      0.58      0.64        48\n",
      "        Email       0.96      0.92      0.94       124\n",
      "         Form       0.68      0.71      0.70        89\n",
      "       Letter       0.78      0.66      0.71       102\n",
      "         Memo       0.68      0.86      0.76       115\n",
      "         News       0.65      0.78      0.70        40\n",
      "         Note       0.42      0.26      0.32        43\n",
      "       Report       0.53      0.70      0.60        54\n",
      "       Resume       1.00      1.00      1.00        27\n",
      "   Scientific       0.81      0.62      0.70        55\n",
      "\n",
      "  avg / total       0.74      0.73      0.73       697\n",
      "\n"
     ]
    },
    {
     "data": {
      "image/png": "[encoded data removed]",
      "text/plain": [
       "<Figure size 432x288 with 2 Axes>"
      ]
     },
     "metadata": {},
     "output_type": "display_data"
    }
   ],
   "source": [
    "report = classification_report(y_test, y_hat_test_bw)\n",
    "print(report)\n",
    "confusion = confusion_matrix(y_test, y_hat_test_bw)\n",
    "plt.imshow(confusion)\n",
    "plt.colorbar()\n",
    "plt.show()"
   ]
  },
  {
   "cell_type": "markdown",
   "metadata": {},
   "source": [
    "## TF-IDF representation"
   ]
  },
  {
   "cell_type": "code",
   "execution_count": 114,
   "metadata": {},
   "outputs": [
    {
     "name": "stdout",
     "output_type": "stream",
     "text": [
      "--------------  --------\n",
      "training error  0.828007\n",
      "test error      0.733142\n",
      "--------------  --------\n"
     ]
    },
    {
     "name": "stderr",
     "output_type": "stream",
     "text": [
      "B:\\Anaconda\\lib\\site-packages\\sklearn\\feature_extraction\\text.py:1089: FutureWarning: Conversion of the second argument of issubdtype from `float` to `np.floating` is deprecated. In future, it will be treated as `np.float64 == np.dtype(float).type`.\n",
      "  if hasattr(X, 'dtype') and np.issubdtype(X.dtype, np.float):\n"
     ]
    }
   ],
   "source": [
    "tf_transformer = TfidfTransformer().fit(X_train_counts)\n",
    "X_train_tf = tf_transformer.transform(X_train_counts)\n",
    "X_test_tf = tf_transformer.transform(X_test_counts)\n",
    "\n",
    "# train a Naive Bayes classifier\n",
    "clf = MultinomialNB(alpha=0.15)\n",
    "clf.fit(X_train_tf, y_train)\n",
    "\n",
    "y_hat_train_tf = clf.predict(X_train_tf)\n",
    "error_train_tf = y_hat_train_tf[y_hat_train_tf == y_train].size / y_train.size\n",
    "\n",
    "y_hat_test_tf = clf.predict(X_test_tf)\n",
    "error_test_tf = y_hat_test_tf[y_hat_test_tf == y_test].size / y_test.size\n",
    "\n",
    "table = [[\"training error\", error_train_tf], [\"test error\", error_test_tf]]\n",
    "print(tabulate(table))"
   ]
  },
  {
   "cell_type": "code",
   "execution_count": 115,
   "metadata": {},
   "outputs": [
    {
     "name": "stdout",
     "output_type": "stream",
     "text": [
      "               precision    recall  f1-score   support\n",
      "\n",
      "Advertisement       0.76      0.65      0.70        48\n",
      "        Email       0.96      0.92      0.94       124\n",
      "         Form       0.69      0.76      0.72        89\n",
      "       Letter       0.75      0.67      0.70       102\n",
      "         Memo       0.61      0.87      0.72       115\n",
      "         News       0.68      0.75      0.71        40\n",
      "         Note       0.44      0.16      0.24        43\n",
      "       Report       0.61      0.52      0.56        54\n",
      "       Resume       1.00      1.00      1.00        27\n",
      "   Scientific       0.76      0.69      0.72        55\n",
      "\n",
      "  avg / total       0.73      0.73      0.72       697\n",
      "\n"
     ]
    },
    {
     "data": {
      "image/png": "[encoded data removed]",
      "text/plain": [
       "<Figure size 432x288 with 2 Axes>"
      ]
     },
     "metadata": {},
     "output_type": "display_data"
    }
   ],
   "source": [
    "report = classification_report(y_test, y_hat_test_tf)\n",
    "print(report)\n",
    "confusion = confusion_matrix(y_test, y_hat_test_tf)\n",
    "plt.imshow(confusion)\n",
    "plt.colorbar()\n",
    "plt.show()"
   ]
  }
 ],
 "metadata": {
  "kernelspec": {
   "display_name": "Python 3",
   "language": "python",
   "name": "python3"
  },
  "language_info": {
   "codemirror_mode": {
    "name": "ipython",
    "version": 3
   },
   "file_extension": ".py",
   "mimetype": "text/x-python",
   "name": "python",
   "nbconvert_exporter": "python",
   "pygments_lexer": "ipython3",
   "version": "3.6.2"
  }
 },
 "nbformat": 4,
 "nbformat_minor": 2
}
